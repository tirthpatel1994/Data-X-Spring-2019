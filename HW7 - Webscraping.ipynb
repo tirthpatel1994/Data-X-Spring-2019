{
 "cells": [
  {
   "cell_type": "markdown",
   "metadata": {},
   "source": [
    "# Data-X Spring 2019: Homework 7\n",
    "\n",
    "### Webscraping\n",
    "\n",
    "\n",
    "\n",
    "In this homework, you will do some exercises with web-scraping."
   ]
  },
  {
   "cell_type": "markdown",
   "metadata": {},
   "source": [
    "## Name: Tirth Patel\n",
    "\n",
    "## SID: 3034227694\n",
    "\n"
   ]
  },
  {
   "cell_type": "markdown",
   "metadata": {},
   "source": [
    "### Fun with Webscraping & Text manipulation\n"
   ]
  },
  {
   "cell_type": "markdown",
   "metadata": {
    "collapsed": true
   },
   "source": [
    "## 1. Statistics in Presidential Debates\n",
    "\n",
    "Your first task is to scrape Presidential Debates from the Commission of Presidential Debates website: https://www.debates.org/voter-education/debate-transcripts/\n",
    "\n",
    "To do this, you are not allowed to manually look up the URLs that you need, instead you have to scrape them. The root url to be scraped is the one listed above, namely: https://www.debates.org/voter-education/debate-transcripts/\n",
    "\n",
    "\n",
    "1. By using `requests` and `BeautifulSoup` find all the links / URLs on the website that links to transcriptions of **First Presidential Debates** from the years [1988, 1984, 1976, 1960]. In total you should find 4 links / URLs that fulfill this criteria. **Print the urls.**\n",
    "\n",
    "2. When you have a list of the URLs your task is to create a Data Frame with some statistics (see example of output below):\n",
    "    1. Scrape the title of each link and use that as the column name in your Data Frame. \n",
    "    2. Count how long the transcript of the debate is (as in the number of characters in transcription string). Feel free to include `\\` characters in your count, but remove any breakline characters, i.e. `\\n`. You will get credit if your count is +/- 10% from our result.\n",
    "    3. Count how many times the word **war** was used in the different debates. Note that you have to convert the text in a smart way (to not count the word **warranty** for example, but counting **war.**, **war!**, **war,** or **War** etc.\n",
    "    4. Also scrape the most common used word in the debate, and write how many times it was used. Note that you have to use the same strategy as in C in order to do this.\n",
    "    \n",
    "    **Print your final output result.**\n",
    "    \n",
    "**Tips:**\n",
    "\n",
    "___\n",
    "\n",
    "In order to solve the questions above, it can be useful to work with Regular Expressions and explore methods on strings like `.strip(), .replace(), .find(), .count(), .lower()` etc. Both are very powerful tools to do string processing in Python. To count common words for example I used a `Counter` object and a Regular expression pattern for only words, see example:\n",
    "\n",
    "```python\n",
    "    from collections import Counter\n",
    "    import re\n",
    "\n",
    "    counts = Counter(re.findall(r\"[\\w']+\", text.lower()))\n",
    "```\n",
    "\n",
    "Read more about Regular Expressions here: https://docs.python.org/3/howto/regex.html\n",
    "    \n",
    "    \n",
    "**Example output of all of the answers to Question 1.2:**\n",
    "\n",
    "\n",
    "![pres_stats_2](https://github.com/ikhlaqsidhu/data-x/raw/master/x-archive/misc/hw2_imgs_spring2018/presidents_stats_2.jpg)\n",
    "\n",
    "\n",
    "\n",
    "----\n",
    "\n",
    ".\n",
    "\n",
    "\n"
   ]
  },
  {
   "cell_type": "code",
   "execution_count": 2,
   "metadata": {},
   "outputs": [],
   "source": [
    "# your code here\n",
    "import requests\n",
    "import bs4 as bs"
   ]
  },
  {
   "cell_type": "code",
   "execution_count": 3,
   "metadata": {},
   "outputs": [],
   "source": [
    "source = requests.get('https://www.debates.org/voter-education/debate-transcripts/')\n",
    "soup = bs.BeautifulSoup(source.content, features = 'html.parser')"
   ]
  },
  {
   "cell_type": "code",
   "execution_count": 4,
   "metadata": {},
   "outputs": [],
   "source": [
    "links = soup.find_all('a')\n",
    "text_list = []# store text of a link temporarily\n",
    "months = ['January', 'February', 'March', 'April', 'May', 'June', 'July', 'August', 'September', 'October', 'November', 'December']\n",
    "years = [1988, 1984, 1976, 1960]\n",
    "for link in links:\n",
    "    if link.text != '':\n",
    "        text = link.text.split()\n",
    "        sorted_text = sorted(text, reverse = True)\n",
    "        if (sorted_text[0] == 'Transcript'): # extracting all links which contain the word 'Transcript'\n",
    "            text_list.append(text)"
   ]
  },
  {
   "cell_type": "code",
   "execution_count": 5,
   "metadata": {},
   "outputs": [
    {
     "name": "stdout",
     "output_type": "stream",
     "text": [
      "['September 25, 1988 Debate Transcript', 'October 7, 1984 Debate Transcript', 'September 23, 1976 Debate Transcript', 'September 26, 1960 Debate Transcript']\n"
     ]
    }
   ],
   "source": [
    "start = 0; # to determine the start index while searching for years\n",
    "final_links = [] # this list contains the relevant text corresponding to links\n",
    "for year in years:\n",
    "        dates_in_year = []\n",
    "        \n",
    "        for i in range(start, len(text_list)):\n",
    "            if int(text_list[i][2]) == year:\n",
    "                temp = text_list[i] # possible candidate for link\n",
    "                monthcode =  months.index(text_list[i][0]) # month in numbers\n",
    "                date = int(text_list[i][1][:-1]) # removing last char (,) from all dates\n",
    "                dates_in_year.append((monthcode, date, text_list[i]))\n",
    "                start = i; # next time searching can start from this point (don't do this if years are not in a particular order)\n",
    "                \n",
    "        final_links.append(' '.join(sorted(dates_in_year)[0][2]))# appending the text corresponding to earliest debate for that year        \n",
    "\n",
    "print(final_links)   "
   ]
  },
  {
   "cell_type": "code",
   "execution_count": 6,
   "metadata": {},
   "outputs": [
    {
     "name": "stdout",
     "output_type": "stream",
     "text": [
      "['https://www.debates.org/voter-education/debate-transcripts/september-25-1988-debate-transcript/', 'https://www.debates.org/voter-education/debate-transcripts/october-7-1984-debate-transcript/', 'https://www.debates.org/voter-education/debate-transcripts/september-23-1976-debate-transcript/', 'https://www.debates.org/voter-education/debate-transcripts/september-26-1960-debate-transcript/']\n"
     ]
    }
   ],
   "source": [
    "#getting the URLs corresponding to texts obtained above\n",
    "urls = []\n",
    "\n",
    "for link in links:\n",
    "   \n",
    "    for final_link in final_links:\n",
    "        if str.strip(link.text) == final_link: # you need to strip link.text as it contains leading spaces\n",
    "            urls.append('https://www.debates.org'+link.get('href'))\n",
    "            \n",
    "print(urls)         "
   ]
  },
  {
   "cell_type": "code",
   "execution_count": 7,
   "metadata": {},
   "outputs": [],
   "source": [
    "import pandas as pd"
   ]
  },
  {
   "cell_type": "code",
   "execution_count": 8,
   "metadata": {},
   "outputs": [],
   "source": [
    "column_names = []\n",
    "for url in urls:\n",
    "    source = requests.get(url)\n",
    "    soup = bs.BeautifulSoup(source.content, 'html.parser')\n",
    "    column_names.append(soup.find('title').text)\n",
    "    \n",
    "#print(column_names)    "
   ]
  },
  {
   "cell_type": "code",
   "execution_count": 9,
   "metadata": {},
   "outputs": [],
   "source": [
    "df = pd.DataFrame(columns = column_names)"
   ]
  },
  {
   "cell_type": "code",
   "execution_count": 10,
   "metadata": {},
   "outputs": [],
   "source": [
    "from collections import Counter\n",
    "import re"
   ]
  },
  {
   "cell_type": "code",
   "execution_count": 16,
   "metadata": {},
   "outputs": [],
   "source": [
    "char_lengths = []\n",
    "war_lengths = []\n",
    "common_words = []\n",
    "common_lengths = []\n",
    "r = 0\n",
    "c = 0\n",
    "for url in urls:\n",
    "    #print(url)\n",
    "    count = 0\n",
    "    count_n = 0 \n",
    "    source = requests.get(url)\n",
    "    soup = bs.BeautifulSoup(source.content, 'html.parser')\n",
    "    body = soup.find_all('body')\n",
    "    p_tags = soup.find_all('p')\n",
    "    total_tags = ''\n",
    "    for i in range(1,len(p_tags)): # the first p tag contains the entire body for some reason, so it is ignored\n",
    "        p = p_tags[i]\n",
    "        total_tags = total_tags + str(p)\n",
    "        #print(p)\n",
    "        count_n = count_n + max(p.text.count('\\n'),0)\n",
    "        count = count + len(p.text)\n",
    "    char_lengths.append(count - count_n)\n",
    "    counts = dict(Counter(re.findall(r\"[\\w']+\", total_tags.lower())))# dict storing words as keys and frequencies as values\n",
    "    #print(counts.keys())\n",
    "    war_lengths.append(counts['war'])\n",
    "    max_key, max_value = max(counts.items(), key=lambda x:x[1])\n",
    "    common_words.append(max_key)\n",
    "    common_lengths.append(max_value)"
   ]
  },
  {
   "cell_type": "code",
   "execution_count": 17,
   "metadata": {},
   "outputs": [],
   "source": [
    "df.loc['Debate char length'] = char_lengths\n",
    "df.loc['war_count'] = war_lengths\n",
    "df.loc['most_common_w'] = common_words\n",
    "df.loc['common_lengths'] = common_lengths"
   ]
  },
  {
   "cell_type": "code",
   "execution_count": 18,
   "metadata": {},
   "outputs": [
    {
     "data": {
      "text/html": [
       "<div>\n",
       "<style scoped>\n",
       "    .dataframe tbody tr th:only-of-type {\n",
       "        vertical-align: middle;\n",
       "    }\n",
       "\n",
       "    .dataframe tbody tr th {\n",
       "        vertical-align: top;\n",
       "    }\n",
       "\n",
       "    .dataframe thead th {\n",
       "        text-align: right;\n",
       "    }\n",
       "</style>\n",
       "<table border=\"1\" class=\"dataframe\">\n",
       "  <thead>\n",
       "    <tr style=\"text-align: right;\">\n",
       "      <th></th>\n",
       "      <th>CPD: September 25, 1988 Debate Transcript</th>\n",
       "      <th>CPD: October 7, 1984 Debate Transcript</th>\n",
       "      <th>CPD: September 23, 1976 Debate Transcript</th>\n",
       "      <th>CPD: September 26, 1960 Debate Transcript</th>\n",
       "    </tr>\n",
       "  </thead>\n",
       "  <tbody>\n",
       "    <tr>\n",
       "      <th>Debate char length</th>\n",
       "      <td>87511</td>\n",
       "      <td>86534</td>\n",
       "      <td>80758</td>\n",
       "      <td>60960</td>\n",
       "    </tr>\n",
       "    <tr>\n",
       "      <th>war_count</th>\n",
       "      <td>8</td>\n",
       "      <td>2</td>\n",
       "      <td>7</td>\n",
       "      <td>3</td>\n",
       "    </tr>\n",
       "    <tr>\n",
       "      <th>most_common_w</th>\n",
       "      <td>the</td>\n",
       "      <td>the</td>\n",
       "      <td>the</td>\n",
       "      <td>the</td>\n",
       "    </tr>\n",
       "    <tr>\n",
       "      <th>common_lengths</th>\n",
       "      <td>805</td>\n",
       "      <td>868</td>\n",
       "      <td>858</td>\n",
       "      <td>780</td>\n",
       "    </tr>\n",
       "  </tbody>\n",
       "</table>\n",
       "</div>"
      ],
      "text/plain": [
       "                   CPD: September 25, 1988 Debate Transcript  \\\n",
       "Debate char length                                     87511   \n",
       "war_count                                                  8   \n",
       "most_common_w                                            the   \n",
       "common_lengths                                           805   \n",
       "\n",
       "                   CPD: October 7, 1984 Debate Transcript  \\\n",
       "Debate char length                                  86534   \n",
       "war_count                                               2   \n",
       "most_common_w                                         the   \n",
       "common_lengths                                        868   \n",
       "\n",
       "                   CPD: September 23, 1976 Debate Transcript  \\\n",
       "Debate char length                                     80758   \n",
       "war_count                                                  7   \n",
       "most_common_w                                            the   \n",
       "common_lengths                                           858   \n",
       "\n",
       "                   CPD: September 26, 1960 Debate Transcript  \n",
       "Debate char length                                     60960  \n",
       "war_count                                                  3  \n",
       "most_common_w                                            the  \n",
       "common_lengths                                           780  "
      ]
     },
     "execution_count": 18,
     "metadata": {},
     "output_type": "execute_result"
    }
   ],
   "source": [
    "df"
   ]
  },
  {
   "cell_type": "code",
   "execution_count": null,
   "metadata": {},
   "outputs": [],
   "source": []
  },
  {
   "cell_type": "markdown",
   "metadata": {},
   "source": [
    "    \n",
    "## 2. Download and read in specific line from many data sets\n",
    "\n",
    "Scrape the first 27 data sets from this URL http://people.sc.fsu.edu/~jburkardt/datasets/regression/ (i.e.`x01.txt` - `x27.txt`). Then, save the 5th line in each data set, this should be the name of the data set author (get rid of the `#` symbol, the white spaces and the comma at the end). \n",
    "\n",
    "Count how many times (with a Python function) each author is the reference for one of the 27 data sets. Showcase your results, sorted, with the most common author name first and how many times he appeared in data sets. Use a Pandas DataFrame to show your results, see example. **Print your final output result.**\n",
    "\n",
    "**Example output of the answer for Question 2:**\n",
    "\n",
    "![author_stats](https://github.com/ikhlaqsidhu/data-x/raw/master/x-archive/misc/hw2_imgs_spring2018/data_authors.png)\n"
   ]
  },
  {
   "cell_type": "code",
   "execution_count": 19,
   "metadata": {},
   "outputs": [],
   "source": [
    "# your code here\n",
    "author_dict = {}"
   ]
  },
  {
   "cell_type": "code",
   "execution_count": 20,
   "metadata": {},
   "outputs": [],
   "source": [
    "# your code here\n",
    "url2 = 'http://people.sc.fsu.edu/~jburkardt/datasets/regression/'\n",
    "source = requests.get(url2)\n",
    "soup = bs.BeautifulSoup(source.content, 'html.parser')\n",
    "tags = soup.find_all('a')\n",
    "for i, tag in enumerate(tags):# finding position of first dataset\n",
    "    if tag.text[:3] == 'x01':\n",
    "        position = i        \n",
    "tags = tags[position:position+27]\n",
    "for tag in tags:\n",
    "    actual_tag = 'http://people.sc.fsu.edu/~jburkardt/datasets/regression/' + str(tag.text)\n",
    "    #print(actual_tag)\n",
    "    source = requests.get(actual_tag)\n",
    "    soup = bs.BeautifulSoup(source.content, 'html')\n",
    "    p_tags = soup.find_all('p')\n",
    "    temp = p_tags[0].text.splitlines()[4] #getting the 5th line\n",
    "    temp_2 = temp[1:-1].strip()# removing # and whitespaces\n",
    "    if temp_2 in author_dict:\n",
    "        author_dict[temp_2] += 1\n",
    "    else:\n",
    "        author_dict[temp_2] = 1"
   ]
  },
  {
   "cell_type": "code",
   "execution_count": 21,
   "metadata": {},
   "outputs": [],
   "source": [
    "df_2 = pd.DataFrame(columns = ['Authors', 'Counts'])"
   ]
  },
  {
   "cell_type": "code",
   "execution_count": 22,
   "metadata": {},
   "outputs": [],
   "source": [
    "for key, value in author_dict.items():\n",
    "    df_2.loc[key] = value"
   ]
  },
  {
   "cell_type": "code",
   "execution_count": 23,
   "metadata": {},
   "outputs": [],
   "source": [
    "df_2 = df_2.sort_values(df_2.columns[1], ascending = False)"
   ]
  },
  {
   "cell_type": "code",
   "execution_count": 24,
   "metadata": {},
   "outputs": [],
   "source": [
    "df_2 = df_2.drop('Authors', axis = 1)"
   ]
  },
  {
   "cell_type": "code",
   "execution_count": 25,
   "metadata": {},
   "outputs": [],
   "source": [
    "df3 = df_2.reset_index()\n",
    "df3.columns = ['Authors', 'Counts']"
   ]
  },
  {
   "cell_type": "code",
   "execution_count": 26,
   "metadata": {},
   "outputs": [
    {
     "data": {
      "text/html": [
       "<div>\n",
       "<style scoped>\n",
       "    .dataframe tbody tr th:only-of-type {\n",
       "        vertical-align: middle;\n",
       "    }\n",
       "\n",
       "    .dataframe tbody tr th {\n",
       "        vertical-align: top;\n",
       "    }\n",
       "\n",
       "    .dataframe thead th {\n",
       "        text-align: right;\n",
       "    }\n",
       "</style>\n",
       "<table border=\"1\" class=\"dataframe\">\n",
       "  <thead>\n",
       "    <tr style=\"text-align: right;\">\n",
       "      <th></th>\n",
       "      <th>Authors</th>\n",
       "      <th>Counts</th>\n",
       "    </tr>\n",
       "  </thead>\n",
       "  <tbody>\n",
       "    <tr>\n",
       "      <th>0</th>\n",
       "      <td>Helmut Spaeth</td>\n",
       "      <td>16</td>\n",
       "    </tr>\n",
       "    <tr>\n",
       "      <th>1</th>\n",
       "      <td>S Chatterjee, B Price</td>\n",
       "      <td>3</td>\n",
       "    </tr>\n",
       "    <tr>\n",
       "      <th>2</th>\n",
       "      <td>R J Freund and P D Minton</td>\n",
       "      <td>2</td>\n",
       "    </tr>\n",
       "    <tr>\n",
       "      <th>3</th>\n",
       "      <td>D G Kleinbaum and L L Kupper</td>\n",
       "      <td>2</td>\n",
       "    </tr>\n",
       "    <tr>\n",
       "      <th>4</th>\n",
       "      <td>S C Narula, J F Wellington</td>\n",
       "      <td>2</td>\n",
       "    </tr>\n",
       "    <tr>\n",
       "      <th>5</th>\n",
       "      <td>K A Brownlee</td>\n",
       "      <td>1</td>\n",
       "    </tr>\n",
       "    <tr>\n",
       "      <th>6</th>\n",
       "      <td>S Chatterjee and B Price</td>\n",
       "      <td>1</td>\n",
       "    </tr>\n",
       "  </tbody>\n",
       "</table>\n",
       "</div>"
      ],
      "text/plain": [
       "                        Authors Counts\n",
       "0                 Helmut Spaeth     16\n",
       "1         S Chatterjee, B Price      3\n",
       "2     R J Freund and P D Minton      2\n",
       "3  D G Kleinbaum and L L Kupper      2\n",
       "4    S C Narula, J F Wellington      2\n",
       "5                  K A Brownlee      1\n",
       "6      S Chatterjee and B Price      1"
      ]
     },
     "execution_count": 26,
     "metadata": {},
     "output_type": "execute_result"
    }
   ],
   "source": [
    "df3"
   ]
  },
  {
   "cell_type": "code",
   "execution_count": null,
   "metadata": {},
   "outputs": [],
   "source": []
  }
 ],
 "metadata": {
  "kernel_info": {
   "name": "data-x"
  },
  "kernelspec": {
   "display_name": "Python 3",
   "language": "python",
   "name": "python3"
  },
  "language_info": {
   "codemirror_mode": {
    "name": "ipython",
    "version": 3
   },
   "file_extension": ".py",
   "mimetype": "text/x-python",
   "name": "python",
   "nbconvert_exporter": "python",
   "pygments_lexer": "ipython3",
   "version": "3.7.1"
  },
  "nteract": {
   "version": "0.7.1"
  }
 },
 "nbformat": 4,
 "nbformat_minor": 2
}
